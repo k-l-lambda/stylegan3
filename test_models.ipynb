{
 "cells": [
  {
   "cell_type": "code",
   "execution_count": null,
   "metadata": {},
   "outputs": [],
   "source": [
    "# stylegan2 discriminator\n",
    "import torch\n",
    "from training.networks_stylegan2 import Discriminator\n",
    "from torch_utils import misc\n",
    "\n",
    "\n",
    "d = Discriminator(1, 256, 3)\n",
    "\n",
    "img = torch.empty([1, 3, 256, 256])\n",
    "c = torch.empty([1, 1])\n",
    "\n",
    "out = misc.print_module_summary(d, [img, c])\n",
    "print(out.shape)\n"
   ]
  },
  {
   "cell_type": "code",
   "execution_count": null,
   "metadata": {},
   "outputs": [],
   "source": [
    "# HumanDiscriminator\n",
    "import torch\n",
    "import env\n",
    "from training.discriminators import HumanDiscriminator\n",
    "from torch_utils import misc\n",
    "\n",
    "\n",
    "model = HumanDiscriminator(c_dim=1, img_resolution=256, img_channels=3)\n",
    "\n",
    "img = torch.empty([1, 3, 256, 256])\n",
    "c = torch.empty([1, 1])\n",
    "\n",
    "out = misc.print_module_summary(model, [img, c])\n",
    "print(out.shape)\n"
   ]
  }
 ],
 "metadata": {
  "interpreter": {
   "hash": "078bcf56f605c67cdda7655337024c2e7603822d51da37d4185dad0e464471a1"
  },
  "kernelspec": {
   "display_name": "Python 3.6.8 64-bit",
   "name": "python3"
  },
  "language_info": {
   "codemirror_mode": {
    "name": "ipython",
    "version": 3
   },
   "file_extension": ".py",
   "mimetype": "text/x-python",
   "name": "python",
   "nbconvert_exporter": "python",
   "pygments_lexer": "ipython3",
   "version": "3.6.8"
  },
  "orig_nbformat": 4
 },
 "nbformat": 4,
 "nbformat_minor": 2
}
