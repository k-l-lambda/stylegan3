{
 "cells": [
  {
   "cell_type": "code",
   "execution_count": 4,
   "metadata": {},
   "outputs": [
    {
     "name": "stdout",
     "output_type": "stream",
     "text": [
      "\n",
      "Discriminator  Parameters  Buffers  Output shape        Datatype\n",
      "---            ---         ---      ---                 ---     \n",
      "b256.fromrgb   512         16       [1, 128, 256, 256]  float32 \n",
      "b256.skip      32768       16       [1, 256, 128, 128]  float32 \n",
      "b256.conv0     147584      16       [1, 128, 256, 256]  float32 \n",
      "b256.conv1     295168      16       [1, 256, 128, 128]  float32 \n",
      "b256           -           16       [1, 256, 128, 128]  float32 \n",
      "b128.skip      131072      16       [1, 512, 64, 64]    float32 \n",
      "b128.conv0     590080      16       [1, 256, 128, 128]  float32 \n",
      "b128.conv1     1180160     16       [1, 512, 64, 64]    float32 \n",
      "b128           -           16       [1, 512, 64, 64]    float32 \n",
      "b64.skip       262144      16       [1, 512, 32, 32]    float32 \n",
      "b64.conv0      2359808     16       [1, 512, 64, 64]    float32 \n",
      "b64.conv1      2359808     16       [1, 512, 32, 32]    float32 \n",
      "b64            -           16       [1, 512, 32, 32]    float32 \n",
      "b32.skip       262144      16       [1, 512, 16, 16]    float32 \n",
      "b32.conv0      2359808     16       [1, 512, 32, 32]    float32 \n",
      "b32.conv1      2359808     16       [1, 512, 16, 16]    float32 \n",
      "b32            -           16       [1, 512, 16, 16]    float32 \n",
      "b16.skip       262144      16       [1, 512, 8, 8]      float32 \n",
      "b16.conv0      2359808     16       [1, 512, 16, 16]    float32 \n",
      "b16.conv1      2359808     16       [1, 512, 8, 8]      float32 \n",
      "b16            -           16       [1, 512, 8, 8]      float32 \n",
      "b8.skip        262144      16       [1, 512, 4, 4]      float32 \n",
      "b8.conv0       2359808     16       [1, 512, 8, 8]      float32 \n",
      "b8.conv1       2359808     16       [1, 512, 4, 4]      float32 \n",
      "b8             -           16       [1, 512, 4, 4]      float32 \n",
      "mapping.embed  1024        -        [1, 512]            float32 \n",
      "mapping.fc0    262656      -        [1, 512]            float32 \n",
      "mapping.fc1    262656      -        [1, 512]            float32 \n",
      "mapping.fc2    262656      -        [1, 512]            float32 \n",
      "mapping.fc3    262656      -        [1, 512]            float32 \n",
      "mapping.fc4    262656      -        [1, 512]            float32 \n",
      "mapping.fc5    262656      -        [1, 512]            float32 \n",
      "mapping.fc6    262656      -        [1, 512]            float32 \n",
      "mapping.fc7    262656      -        [1, 512]            float32 \n",
      "b4.mbstd       -           -        [1, 513, 4, 4]      float32 \n",
      "b4.conv        2364416     16       [1, 512, 4, 4]      float32 \n",
      "b4.fc          4194816     -        [1, 512]            float32 \n",
      "b4.out         262656      -        [1, 512]            float32 \n",
      "b4             -           -        [1, 1]              float32 \n",
      "---            ---         ---      ---                 ---     \n",
      "Total          31228544    416      -                   -       \n",
      "\n"
     ]
    },
    {
     "data": {
      "text/plain": [
       "tensor([[0.0172]], grad_fn=<MulBackward0>)"
      ]
     },
     "execution_count": 4,
     "metadata": {},
     "output_type": "execute_result"
    }
   ],
   "source": [
    "# stylegan2 discriminator\n",
    "import torch\n",
    "from training.networks_stylegan2 import Discriminator\n",
    "from torch_utils import misc\n",
    "\n",
    "\n",
    "d = Discriminator(1, 256, 3)\n",
    "\n",
    "img = torch.empty([1, 3, 256, 256])\n",
    "c = torch.empty([1, 1])\n",
    "\n",
    "misc.print_module_summary(d, [img, c])\n"
   ]
  }
 ],
 "metadata": {
  "interpreter": {
   "hash": "078bcf56f605c67cdda7655337024c2e7603822d51da37d4185dad0e464471a1"
  },
  "kernelspec": {
   "display_name": "Python 3.6.8 64-bit",
   "name": "python3"
  },
  "language_info": {
   "codemirror_mode": {
    "name": "ipython",
    "version": 3
   },
   "file_extension": ".py",
   "mimetype": "text/x-python",
   "name": "python",
   "nbconvert_exporter": "python",
   "pygments_lexer": "ipython3",
   "version": "3.6.8"
  },
  "orig_nbformat": 4
 },
 "nbformat": 4,
 "nbformat_minor": 2
}
